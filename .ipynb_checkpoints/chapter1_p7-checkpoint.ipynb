{
 "cells": [
  {
   "cell_type": "code",
   "execution_count": 1,
   "metadata": {},
   "outputs": [],
   "source": [
    "import pandas as pd\n",
    "import numpy as np\n",
    "import matplotlib.pyplot as plt"
   ]
  },
  {
   "cell_type": "code",
   "execution_count": 2,
   "metadata": {},
   "outputs": [],
   "source": [
    "company_names = \"\"\"Miller_Lite  \n",
    "Pepsi        \n",
    "Stroh’s      \n",
    "Fed’l_Express\n",
    "Burger_King  \n",
    "Coca_Cola    \n",
    "McDonald’s   \n",
    "MCl          \n",
    "Diet_Cola    \n",
    "Ford         \n",
    "Levi’s       \n",
    "Bud_Lite     \n",
    "ATT/Bell     \n",
    "Calvin_Klein \n",
    "Wendy’s      \n",
    "Polaroid     \n",
    "Shasta       \n",
    "Meow_Mix     \n",
    "Oscar_Meyer  \n",
    "Crest        \n",
    "Kibbles_NBits\"\"\""
   ]
  },
  {
   "cell_type": "code",
   "execution_count": 6,
   "metadata": {},
   "outputs": [],
   "source": [
    "impressions = \"\"\"32.1\n",
    "99.6\n",
    "11.7\n",
    "21.9\n",
    "60.8\n",
    "78.6\n",
    "92.4\n",
    "50.7\n",
    "21.4\n",
    "40.1\n",
    "40.8\n",
    "10.4\n",
    "88.9\n",
    "12.0\n",
    "29.2\n",
    "38.0\n",
    "10.0\n",
    "12.3\n",
    "23.4\n",
    "71.1\n",
    " 4.4\"\"\""
   ]
  },
  {
   "cell_type": "code",
   "execution_count": 7,
   "metadata": {},
   "outputs": [],
   "source": [
    "expenditure = \"\"\" 50.1\n",
    " 74.1\n",
    " 19.3\n",
    " 22.9\n",
    " 82.4\n",
    " 40.1\n",
    "185.9\n",
    " 26.9\n",
    " 20.4\n",
    "166.2\n",
    " 27.0\n",
    " 45.6\n",
    "154.9\n",
    "  5.0\n",
    " 49.7\n",
    " 26.9\n",
    "  5.7\n",
    "  7.6\n",
    "  9.2\n",
    " 32.4\n",
    "  6.1\"\"\""
   ]
  },
  {
   "cell_type": "code",
   "execution_count": 9,
   "metadata": {},
   "outputs": [],
   "source": [
    "def string_to_float(df, list_of_columns, list_of_names):\n",
    "    for country, name in zip(list_of_columns,list_of_names):\n",
    "        df[name] = [float(number) for number in country.split()]"
   ]
  },
  {
   "cell_type": "code",
   "execution_count": 12,
   "metadata": {},
   "outputs": [],
   "source": [
    "def string_to_string(df, list_of_columns, list_of_names):\n",
    "    for country, name in zip(list_of_columns,list_of_names):\n",
    "        df[name] = [str(number) for number in country.split()]"
   ]
  },
  {
   "cell_type": "code",
   "execution_count": 13,
   "metadata": {},
   "outputs": [],
   "source": [
    "advert_df = pd.DataFrame()"
   ]
  },
  {
   "cell_type": "code",
   "execution_count": 14,
   "metadata": {},
   "outputs": [],
   "source": [
    "string_to_string(advert_df, [company_names], ['company'])"
   ]
  },
  {
   "cell_type": "code",
   "execution_count": 15,
   "metadata": {},
   "outputs": [],
   "source": [
    "string_to_float(advert_df, [impressions, expenditure], ['impressions', 'expenditure'])"
   ]
  },
  {
   "cell_type": "code",
   "execution_count": 16,
   "metadata": {},
   "outputs": [
    {
     "data": {
      "text/html": [
       "<div>\n",
       "<style scoped>\n",
       "    .dataframe tbody tr th:only-of-type {\n",
       "        vertical-align: middle;\n",
       "    }\n",
       "\n",
       "    .dataframe tbody tr th {\n",
       "        vertical-align: top;\n",
       "    }\n",
       "\n",
       "    .dataframe thead th {\n",
       "        text-align: right;\n",
       "    }\n",
       "</style>\n",
       "<table border=\"1\" class=\"dataframe\">\n",
       "  <thead>\n",
       "    <tr style=\"text-align: right;\">\n",
       "      <th></th>\n",
       "      <th>company</th>\n",
       "      <th>impressions</th>\n",
       "      <th>expenditure</th>\n",
       "    </tr>\n",
       "  </thead>\n",
       "  <tbody>\n",
       "    <tr>\n",
       "      <th>0</th>\n",
       "      <td>Miller_Lite</td>\n",
       "      <td>32.1</td>\n",
       "      <td>50.1</td>\n",
       "    </tr>\n",
       "    <tr>\n",
       "      <th>1</th>\n",
       "      <td>Pepsi</td>\n",
       "      <td>99.6</td>\n",
       "      <td>74.1</td>\n",
       "    </tr>\n",
       "    <tr>\n",
       "      <th>2</th>\n",
       "      <td>Stroh’s</td>\n",
       "      <td>11.7</td>\n",
       "      <td>19.3</td>\n",
       "    </tr>\n",
       "    <tr>\n",
       "      <th>3</th>\n",
       "      <td>Fed’l_Express</td>\n",
       "      <td>21.9</td>\n",
       "      <td>22.9</td>\n",
       "    </tr>\n",
       "    <tr>\n",
       "      <th>4</th>\n",
       "      <td>Burger_King</td>\n",
       "      <td>60.8</td>\n",
       "      <td>82.4</td>\n",
       "    </tr>\n",
       "    <tr>\n",
       "      <th>5</th>\n",
       "      <td>Coca_Cola</td>\n",
       "      <td>78.6</td>\n",
       "      <td>40.1</td>\n",
       "    </tr>\n",
       "    <tr>\n",
       "      <th>6</th>\n",
       "      <td>McDonald’s</td>\n",
       "      <td>92.4</td>\n",
       "      <td>185.9</td>\n",
       "    </tr>\n",
       "    <tr>\n",
       "      <th>7</th>\n",
       "      <td>MCl</td>\n",
       "      <td>50.7</td>\n",
       "      <td>26.9</td>\n",
       "    </tr>\n",
       "    <tr>\n",
       "      <th>8</th>\n",
       "      <td>Diet_Cola</td>\n",
       "      <td>21.4</td>\n",
       "      <td>20.4</td>\n",
       "    </tr>\n",
       "    <tr>\n",
       "      <th>9</th>\n",
       "      <td>Ford</td>\n",
       "      <td>40.1</td>\n",
       "      <td>166.2</td>\n",
       "    </tr>\n",
       "    <tr>\n",
       "      <th>10</th>\n",
       "      <td>Levi’s</td>\n",
       "      <td>40.8</td>\n",
       "      <td>27.0</td>\n",
       "    </tr>\n",
       "    <tr>\n",
       "      <th>11</th>\n",
       "      <td>Bud_Lite</td>\n",
       "      <td>10.4</td>\n",
       "      <td>45.6</td>\n",
       "    </tr>\n",
       "    <tr>\n",
       "      <th>12</th>\n",
       "      <td>ATT/Bell</td>\n",
       "      <td>88.9</td>\n",
       "      <td>154.9</td>\n",
       "    </tr>\n",
       "    <tr>\n",
       "      <th>13</th>\n",
       "      <td>Calvin_Klein</td>\n",
       "      <td>12.0</td>\n",
       "      <td>5.0</td>\n",
       "    </tr>\n",
       "    <tr>\n",
       "      <th>14</th>\n",
       "      <td>Wendy’s</td>\n",
       "      <td>29.2</td>\n",
       "      <td>49.7</td>\n",
       "    </tr>\n",
       "    <tr>\n",
       "      <th>15</th>\n",
       "      <td>Polaroid</td>\n",
       "      <td>38.0</td>\n",
       "      <td>26.9</td>\n",
       "    </tr>\n",
       "    <tr>\n",
       "      <th>16</th>\n",
       "      <td>Shasta</td>\n",
       "      <td>10.0</td>\n",
       "      <td>5.7</td>\n",
       "    </tr>\n",
       "    <tr>\n",
       "      <th>17</th>\n",
       "      <td>Meow_Mix</td>\n",
       "      <td>12.3</td>\n",
       "      <td>7.6</td>\n",
       "    </tr>\n",
       "    <tr>\n",
       "      <th>18</th>\n",
       "      <td>Oscar_Meyer</td>\n",
       "      <td>23.4</td>\n",
       "      <td>9.2</td>\n",
       "    </tr>\n",
       "    <tr>\n",
       "      <th>19</th>\n",
       "      <td>Crest</td>\n",
       "      <td>71.1</td>\n",
       "      <td>32.4</td>\n",
       "    </tr>\n",
       "    <tr>\n",
       "      <th>20</th>\n",
       "      <td>Kibbles_NBits</td>\n",
       "      <td>4.4</td>\n",
       "      <td>6.1</td>\n",
       "    </tr>\n",
       "  </tbody>\n",
       "</table>\n",
       "</div>"
      ],
      "text/plain": [
       "          company  impressions  expenditure\n",
       "0     Miller_Lite         32.1         50.1\n",
       "1           Pepsi         99.6         74.1\n",
       "2         Stroh’s         11.7         19.3\n",
       "3   Fed’l_Express         21.9         22.9\n",
       "4     Burger_King         60.8         82.4\n",
       "5       Coca_Cola         78.6         40.1\n",
       "6      McDonald’s         92.4        185.9\n",
       "7             MCl         50.7         26.9\n",
       "8       Diet_Cola         21.4         20.4\n",
       "9            Ford         40.1        166.2\n",
       "10         Levi’s         40.8         27.0\n",
       "11       Bud_Lite         10.4         45.6\n",
       "12       ATT/Bell         88.9        154.9\n",
       "13   Calvin_Klein         12.0          5.0\n",
       "14        Wendy’s         29.2         49.7\n",
       "15       Polaroid         38.0         26.9\n",
       "16         Shasta         10.0          5.7\n",
       "17       Meow_Mix         12.3          7.6\n",
       "18    Oscar_Meyer         23.4          9.2\n",
       "19          Crest         71.1         32.4\n",
       "20  Kibbles_NBits          4.4          6.1"
      ]
     },
     "execution_count": 16,
     "metadata": {},
     "output_type": "execute_result"
    }
   ],
   "source": [
    "advert_df"
   ]
  },
  {
   "cell_type": "code",
   "execution_count": 25,
   "metadata": {},
   "outputs": [
    {
     "data": {
      "text/plain": [
       "Text(0, 0.5, 'Impressions')"
      ]
     },
     "execution_count": 25,
     "metadata": {},
     "output_type": "execute_result"
    },
    {
     "data": {
      "image/png": "[encoded data removed]",
      "text/plain": [
       "<Figure size 576x576 with 1 Axes>"
      ]
     },
     "metadata": {
      "needs_background": "light"
     },
     "output_type": "display_data"
    }
   ],
   "source": [
    "fig, ax = plt.subplots(figsize=(8,8))\n",
    "ax.scatter(advert_df.expenditure, advert_df.impressions)\n",
    "ax.set_xlabel(\"Expenditures\")\n",
    "ax.set_ylabel(\"Impressions\")"
   ]
  },
  {
   "cell_type": "code",
   "execution_count": null,
   "metadata": {},
   "outputs": [],
   "source": []
  }
 ],
 "metadata": {
  "kernelspec": {
   "display_name": "Python 3",
   "language": "python",
   "name": "python3"
  },
  "language_info": {
   "codemirror_mode": {
    "name": "ipython",
    "version": 3
   },
   "file_extension": ".py",
   "mimetype": "text/x-python",
   "name": "python",
   "nbconvert_exporter": "python",
   "pygments_lexer": "ipython3",
   "version": "3.6.7"
  }
 },
 "nbformat": 4,
 "nbformat_minor": 2
}
