{
 "cells": [
  {
   "cell_type": "code",
   "execution_count": 55,
   "metadata": {},
   "outputs": [],
   "source": [
    "import pandas as pd\n",
    "import numpy as np\n",
    "import matplotlib.pyplot as plt\n",
    "from sklearn.linear_model import LinearRegression"
   ]
  },
  {
   "cell_type": "code",
   "execution_count": 9,
   "metadata": {},
   "outputs": [],
   "source": [
    "column_names = ['year', 'labor_male', 'labor_female', 'unemp_male', 'unemp_female', 'av_earnings_1982', 'av_earnings_current']"
   ]
  },
  {
   "cell_type": "code",
   "execution_count": 6,
   "metadata": {},
   "outputs": [],
   "source": [
    "raw_data = \"\"\"1980 77.4 51.5 6.9 7.4 7.78 6.66\n",
    "1981 77.0 52.1 7.4 7.9 7.69 7.25\n",
    "1982 76.6 52.6 9.9 9.4 7.68 7.68\n",
    "1983 76.4 53.9 9.9 9.2 7.79 8.02\n",
    "1984 76.4 53.6 7.4 7.6 7.80 8.32\n",
    "1985 76.3 54.5 7.0 7.4 7.77 8.57\n",
    "1986 76.3 55.3 6.9 7.1 7.81 8.76\n",
    "1987 76.2 56.0 6.2 6.2 7.73 8.98\n",
    "1988 76.2 56.6 5.5 5.6 7.69 9.28\n",
    "1989 76.4 57.4 5.2 5.4 7.64 9.66\n",
    "1990 76.4 57.5 5.7 5.5 7.52 10.01\n",
    "1991 75.8 57.4 7.2 6.4 7.45 10.32\n",
    "1992 75.8 57.8 7.9 7.0 7.41 10.57\n",
    "1993 75.4 57.9 7.2 6.6 7.39 10.83\n",
    "1994 75.1 58.8 6.2 6.0 7.40 11.12\n",
    "1995 75.0 58.9 5.6 5.6 7.40 11.44\n",
    "1996 74.9 59.3 5.4 5.4 7.43 11.82\"\"\""
   ]
  },
  {
   "cell_type": "code",
   "execution_count": 12,
   "metadata": {},
   "outputs": [],
   "source": [
    "raw_data_split = raw_data.split()"
   ]
  },
  {
   "cell_type": "code",
   "execution_count": 62,
   "metadata": {},
   "outputs": [],
   "source": [
    "def raw_to_df(raw_data_split, column_names):\n",
    "    df = pd.DataFrame()\n",
    "    for i in range(len(column_names)):\n",
    "        df[column_names[i]] = [float(raw_data_split[j]) for j in range(i,len(raw_data_split), len(column_names))]\n",
    "    return df"
   ]
  },
  {
   "cell_type": "code",
   "execution_count": 63,
   "metadata": {},
   "outputs": [],
   "source": [
    "labor_df = raw_to_df(raw_data_split, column_names)"
   ]
  },
  {
   "cell_type": "code",
   "execution_count": 65,
   "metadata": {},
   "outputs": [],
   "source": [
    "labor_df.year = labor_df.year.astype('int')"
   ]
  },
  {
   "cell_type": "code",
   "execution_count": 66,
   "metadata": {},
   "outputs": [
    {
     "data": {
      "text/html": [
       "<div>\n",
       "<style scoped>\n",
       "    .dataframe tbody tr th:only-of-type {\n",
       "        vertical-align: middle;\n",
       "    }\n",
       "\n",
       "    .dataframe tbody tr th {\n",
       "        vertical-align: top;\n",
       "    }\n",
       "\n",
       "    .dataframe thead th {\n",
       "        text-align: right;\n",
       "    }\n",
       "</style>\n",
       "<table border=\"1\" class=\"dataframe\">\n",
       "  <thead>\n",
       "    <tr style=\"text-align: right;\">\n",
       "      <th></th>\n",
       "      <th>year</th>\n",
       "      <th>labor_male</th>\n",
       "      <th>labor_female</th>\n",
       "      <th>unemp_male</th>\n",
       "      <th>unemp_female</th>\n",
       "      <th>av_earnings_1982</th>\n",
       "      <th>av_earnings_current</th>\n",
       "    </tr>\n",
       "  </thead>\n",
       "  <tbody>\n",
       "    <tr>\n",
       "      <th>0</th>\n",
       "      <td>1980</td>\n",
       "      <td>77.4</td>\n",
       "      <td>51.5</td>\n",
       "      <td>6.9</td>\n",
       "      <td>7.4</td>\n",
       "      <td>7.78</td>\n",
       "      <td>6.66</td>\n",
       "    </tr>\n",
       "    <tr>\n",
       "      <th>1</th>\n",
       "      <td>1981</td>\n",
       "      <td>77.0</td>\n",
       "      <td>52.1</td>\n",
       "      <td>7.4</td>\n",
       "      <td>7.9</td>\n",
       "      <td>7.69</td>\n",
       "      <td>7.25</td>\n",
       "    </tr>\n",
       "    <tr>\n",
       "      <th>2</th>\n",
       "      <td>1982</td>\n",
       "      <td>76.6</td>\n",
       "      <td>52.6</td>\n",
       "      <td>9.9</td>\n",
       "      <td>9.4</td>\n",
       "      <td>7.68</td>\n",
       "      <td>7.68</td>\n",
       "    </tr>\n",
       "    <tr>\n",
       "      <th>3</th>\n",
       "      <td>1983</td>\n",
       "      <td>76.4</td>\n",
       "      <td>53.9</td>\n",
       "      <td>9.9</td>\n",
       "      <td>9.2</td>\n",
       "      <td>7.79</td>\n",
       "      <td>8.02</td>\n",
       "    </tr>\n",
       "    <tr>\n",
       "      <th>4</th>\n",
       "      <td>1984</td>\n",
       "      <td>76.4</td>\n",
       "      <td>53.6</td>\n",
       "      <td>7.4</td>\n",
       "      <td>7.6</td>\n",
       "      <td>7.80</td>\n",
       "      <td>8.32</td>\n",
       "    </tr>\n",
       "    <tr>\n",
       "      <th>5</th>\n",
       "      <td>1985</td>\n",
       "      <td>76.3</td>\n",
       "      <td>54.5</td>\n",
       "      <td>7.0</td>\n",
       "      <td>7.4</td>\n",
       "      <td>7.77</td>\n",
       "      <td>8.57</td>\n",
       "    </tr>\n",
       "    <tr>\n",
       "      <th>6</th>\n",
       "      <td>1986</td>\n",
       "      <td>76.3</td>\n",
       "      <td>55.3</td>\n",
       "      <td>6.9</td>\n",
       "      <td>7.1</td>\n",
       "      <td>7.81</td>\n",
       "      <td>8.76</td>\n",
       "    </tr>\n",
       "    <tr>\n",
       "      <th>7</th>\n",
       "      <td>1987</td>\n",
       "      <td>76.2</td>\n",
       "      <td>56.0</td>\n",
       "      <td>6.2</td>\n",
       "      <td>6.2</td>\n",
       "      <td>7.73</td>\n",
       "      <td>8.98</td>\n",
       "    </tr>\n",
       "    <tr>\n",
       "      <th>8</th>\n",
       "      <td>1988</td>\n",
       "      <td>76.2</td>\n",
       "      <td>56.6</td>\n",
       "      <td>5.5</td>\n",
       "      <td>5.6</td>\n",
       "      <td>7.69</td>\n",
       "      <td>9.28</td>\n",
       "    </tr>\n",
       "    <tr>\n",
       "      <th>9</th>\n",
       "      <td>1989</td>\n",
       "      <td>76.4</td>\n",
       "      <td>57.4</td>\n",
       "      <td>5.2</td>\n",
       "      <td>5.4</td>\n",
       "      <td>7.64</td>\n",
       "      <td>9.66</td>\n",
       "    </tr>\n",
       "    <tr>\n",
       "      <th>10</th>\n",
       "      <td>1990</td>\n",
       "      <td>76.4</td>\n",
       "      <td>57.5</td>\n",
       "      <td>5.7</td>\n",
       "      <td>5.5</td>\n",
       "      <td>7.52</td>\n",
       "      <td>10.01</td>\n",
       "    </tr>\n",
       "    <tr>\n",
       "      <th>11</th>\n",
       "      <td>1991</td>\n",
       "      <td>75.8</td>\n",
       "      <td>57.4</td>\n",
       "      <td>7.2</td>\n",
       "      <td>6.4</td>\n",
       "      <td>7.45</td>\n",
       "      <td>10.32</td>\n",
       "    </tr>\n",
       "    <tr>\n",
       "      <th>12</th>\n",
       "      <td>1992</td>\n",
       "      <td>75.8</td>\n",
       "      <td>57.8</td>\n",
       "      <td>7.9</td>\n",
       "      <td>7.0</td>\n",
       "      <td>7.41</td>\n",
       "      <td>10.57</td>\n",
       "    </tr>\n",
       "    <tr>\n",
       "      <th>13</th>\n",
       "      <td>1993</td>\n",
       "      <td>75.4</td>\n",
       "      <td>57.9</td>\n",
       "      <td>7.2</td>\n",
       "      <td>6.6</td>\n",
       "      <td>7.39</td>\n",
       "      <td>10.83</td>\n",
       "    </tr>\n",
       "    <tr>\n",
       "      <th>14</th>\n",
       "      <td>1994</td>\n",
       "      <td>75.1</td>\n",
       "      <td>58.8</td>\n",
       "      <td>6.2</td>\n",
       "      <td>6.0</td>\n",
       "      <td>7.40</td>\n",
       "      <td>11.12</td>\n",
       "    </tr>\n",
       "    <tr>\n",
       "      <th>15</th>\n",
       "      <td>1995</td>\n",
       "      <td>75.0</td>\n",
       "      <td>58.9</td>\n",
       "      <td>5.6</td>\n",
       "      <td>5.6</td>\n",
       "      <td>7.40</td>\n",
       "      <td>11.44</td>\n",
       "    </tr>\n",
       "    <tr>\n",
       "      <th>16</th>\n",
       "      <td>1996</td>\n",
       "      <td>74.9</td>\n",
       "      <td>59.3</td>\n",
       "      <td>5.4</td>\n",
       "      <td>5.4</td>\n",
       "      <td>7.43</td>\n",
       "      <td>11.82</td>\n",
       "    </tr>\n",
       "  </tbody>\n",
       "</table>\n",
       "</div>"
      ],
      "text/plain": [
       "    year  labor_male  labor_female  unemp_male  unemp_female  \\\n",
       "0   1980        77.4          51.5         6.9           7.4   \n",
       "1   1981        77.0          52.1         7.4           7.9   \n",
       "2   1982        76.6          52.6         9.9           9.4   \n",
       "3   1983        76.4          53.9         9.9           9.2   \n",
       "4   1984        76.4          53.6         7.4           7.6   \n",
       "5   1985        76.3          54.5         7.0           7.4   \n",
       "6   1986        76.3          55.3         6.9           7.1   \n",
       "7   1987        76.2          56.0         6.2           6.2   \n",
       "8   1988        76.2          56.6         5.5           5.6   \n",
       "9   1989        76.4          57.4         5.2           5.4   \n",
       "10  1990        76.4          57.5         5.7           5.5   \n",
       "11  1991        75.8          57.4         7.2           6.4   \n",
       "12  1992        75.8          57.8         7.9           7.0   \n",
       "13  1993        75.4          57.9         7.2           6.6   \n",
       "14  1994        75.1          58.8         6.2           6.0   \n",
       "15  1995        75.0          58.9         5.6           5.6   \n",
       "16  1996        74.9          59.3         5.4           5.4   \n",
       "\n",
       "    av_earnings_1982  av_earnings_current  \n",
       "0               7.78                 6.66  \n",
       "1               7.69                 7.25  \n",
       "2               7.68                 7.68  \n",
       "3               7.79                 8.02  \n",
       "4               7.80                 8.32  \n",
       "5               7.77                 8.57  \n",
       "6               7.81                 8.76  \n",
       "7               7.73                 8.98  \n",
       "8               7.69                 9.28  \n",
       "9               7.64                 9.66  \n",
       "10              7.52                10.01  \n",
       "11              7.45                10.32  \n",
       "12              7.41                10.57  \n",
       "13              7.39                10.83  \n",
       "14              7.40                11.12  \n",
       "15              7.40                11.44  \n",
       "16              7.43                11.82  "
      ]
     },
     "execution_count": 66,
     "metadata": {},
     "output_type": "execute_result"
    }
   ],
   "source": [
    "labor_df"
   ]
  },
  {
   "cell_type": "code",
   "execution_count": 99,
   "metadata": {},
   "outputs": [],
   "source": [
    "x_male = labor_df.unemp_male.values\n",
    "x_male = x_male.reshape(-1,1)\n",
    "y_male = labor_df.labor_male.values"
   ]
  },
  {
   "cell_type": "code",
   "execution_count": 100,
   "metadata": {},
   "outputs": [],
   "source": [
    "model = LinearRegression()"
   ]
  },
  {
   "cell_type": "code",
   "execution_count": 101,
   "metadata": {},
   "outputs": [],
   "source": [
    "fitted_model = model.fit(x_male, y_male)"
   ]
  },
  {
   "cell_type": "code",
   "execution_count": 102,
   "metadata": {},
   "outputs": [
    {
     "data": {
      "text/plain": [
       "[<matplotlib.lines.Line2D at 0x11c174128>]"
      ]
     },
     "execution_count": 102,
     "metadata": {},
     "output_type": "execute_result"
    },
    {
     "data": {
      "image/png": "[encoded data removed]",
      "text/plain": [
       "<Figure size 576x576 with 1 Axes>"
      ]
     },
     "metadata": {
      "needs_background": "light"
     },
     "output_type": "display_data"
    }
   ],
   "source": [
    "fig, ax = plt.subplots(figsize=(8,8))\n",
    "ax.scatter(labor_df.unemp_male, labor_df.labor_male)\n",
    "ax.set_title(\"Labor Force Participation v. Unemployment (Male)\")\n",
    "ax.set_ylabel(\"Labor Force Participation Male\")\n",
    "ax.set_xlabel(\"Unemployment Rate Male\")\n",
    "ax.plot(x_male, fitted_model.predict(x_male), color='r')"
   ]
  },
  {
   "cell_type": "code",
   "execution_count": 103,
   "metadata": {},
   "outputs": [],
   "source": [
    "x_female = labor_df.unemp_female.values\n",
    "x_female = x_female.reshape(-1,1)\n",
    "y_female = labor_df.labor_female.values"
   ]
  },
  {
   "cell_type": "code",
   "execution_count": 104,
   "metadata": {},
   "outputs": [],
   "source": [
    "fitted_model_female = model.fit(x_female, y_female)"
   ]
  },
  {
   "cell_type": "code",
   "execution_count": 106,
   "metadata": {},
   "outputs": [
    {
     "data": {
      "text/plain": [
       "[<matplotlib.lines.Line2D at 0x11b0d7b38>]"
      ]
     },
     "execution_count": 106,
     "metadata": {},
     "output_type": "execute_result"
    },
    {
     "data": {
      "image/png": "[encoded data removed]",
      "text/plain": [
       "<Figure size 576x576 with 1 Axes>"
      ]
     },
     "metadata": {
      "needs_background": "light"
     },
     "output_type": "display_data"
    }
   ],
   "source": [
    "fig, ax = plt.subplots(figsize=(8,8))\n",
    "ax.scatter(labor_df.unemp_female, labor_df.labor_female)\n",
    "ax.set_title(\"Labor Force Participation v. Unemployment (Female)\")\n",
    "ax.set_ylabel(\"Labor Force Participation Female\")\n",
    "ax.set_xlabel(\"Unemployment Rate Female\")\n",
    "ax.plot(x_female, fitted_model.predict(x_female), color='r')"
   ]
  },
  {
   "cell_type": "code",
   "execution_count": 109,
   "metadata": {},
   "outputs": [
    {
     "data": {
      "text/plain": [
       "<matplotlib.legend.Legend at 0x11c53fb00>"
      ]
     },
     "execution_count": 109,
     "metadata": {},
     "output_type": "execute_result"
    },
    {
     "data": {
      "image/png": "[encoded data removed]",
      "text/plain": [
       "<Figure size 576x576 with 1 Axes>"
      ]
     },
     "metadata": {
      "needs_background": "light"
     },
     "output_type": "display_data"
    }
   ],
   "source": [
    "fig, ax = plt.subplots(figsize=(8,8))\n",
    "ax.scatter(labor_df.av_earnings_1982, labor_df.labor_male)\n",
    "ax.scatter(labor_df.av_earnings_1982, labor_df.labor_female)\n",
    "ax.set_title(\"Labor Force Participation v. Average Earnings (1982)\")\n",
    "ax.set_ylabel(\"Labor Force Participation\")\n",
    "ax.set_xlabel(\"Average Earnings 1982\")\n",
    "ax.legend()"
   ]
  },
  {
   "cell_type": "code",
   "execution_count": 177,
   "metadata": {},
   "outputs": [],
   "source": [
    "male_model = LinearRegression()"
   ]
  },
  {
   "cell_type": "code",
   "execution_count": 178,
   "metadata": {},
   "outputs": [],
   "source": [
    "fitted_model_m = male_model.fit(labor_df.av_earnings_1982.values.reshape(-1,1), y_m)"
   ]
  },
  {
   "cell_type": "code",
   "execution_count": 183,
   "metadata": {},
   "outputs": [
    {
     "data": {
      "text/plain": [
       "array([3.26436751])"
      ]
     },
     "execution_count": 183,
     "metadata": {},
     "output_type": "execute_result"
    }
   ],
   "source": [
    "fitted_model_m.coef_"
   ]
  },
  {
   "cell_type": "code",
   "execution_count": 184,
   "metadata": {},
   "outputs": [],
   "source": [
    "female_model = LinearRegression()"
   ]
  },
  {
   "cell_type": "code",
   "execution_count": 185,
   "metadata": {},
   "outputs": [],
   "source": [
    "fitted_model_f = female_model.fit(labor_df.av_earnings_1982.values.reshape(-1,1), y_f)"
   ]
  },
  {
   "cell_type": "code",
   "execution_count": 186,
   "metadata": {},
   "outputs": [
    {
     "data": {
      "text/plain": [
       "array([-12.23283006])"
      ]
     },
     "execution_count": 186,
     "metadata": {},
     "output_type": "execute_result"
    }
   ],
   "source": [
    "fitted_model_f.coef_"
   ]
  },
  {
   "cell_type": "code",
   "execution_count": 194,
   "metadata": {},
   "outputs": [
    {
     "data": {
      "text/plain": [
       "Text(0.5, 1.0, 'Labor Force Participation Female v. Average Earnings 1982')"
      ]
     },
     "execution_count": 194,
     "metadata": {},
     "output_type": "execute_result"
    },
    {
     "data": {
      "image/png": "[encoded data removed]",
      "text/plain": [
       "<Figure size 1080x576 with 2 Axes>"
      ]
     },
     "metadata": {
      "needs_background": "light"
     },
     "output_type": "display_data"
    }
   ],
   "source": [
    "fig, ax = plt.subplots(1,2, figsize=(15,8))\n",
    "plt.subplots_adjust(wspace=1)\n",
    "ax[0].scatter(labor_df.av_earnings_1982, labor_df.labor_male)\n",
    "ax[0].plot(labor_df.av_earnings_1982.values.reshape(-1,1), \n",
    "           fitted_model_m.predict(labor_df.av_earnings_1982.values.reshape(-1,1)), \n",
    "           color='r')\n",
    "ax[0].set_title(\"Labor Force Participation Male v. Average Earnings 1982\")\n",
    "ax[1].scatter(labor_df.av_earnings_1982, labor_df.labor_female)\n",
    "ax[1].plot(labor_df.av_earnings_1982.values.reshape(-1,1), \n",
    "           fitted_model_f.predict(labor_df.av_earnings_1982.values.reshape(-1,1)), \n",
    "           color='r')\n",
    "ax[1].set_title(\"Labor Force Participation Female v. Average Earnings 1982\")\n"
   ]
  },
  {
   "cell_type": "code",
   "execution_count": null,
   "metadata": {},
   "outputs": [],
   "source": []
  }
 ],
 "metadata": {
  "kernelspec": {
   "display_name": "Python 3",
   "language": "python",
   "name": "python3"
  },
  "language_info": {
   "codemirror_mode": {
    "name": "ipython",
    "version": 3
   },
   "file_extension": ".py",
   "mimetype": "text/x-python",
   "name": "python",
   "nbconvert_exporter": "python",
   "pygments_lexer": "ipython3",
   "version": "3.6.7"
  }
 },
 "nbformat": 4,
 "nbformat_minor": 2
}
