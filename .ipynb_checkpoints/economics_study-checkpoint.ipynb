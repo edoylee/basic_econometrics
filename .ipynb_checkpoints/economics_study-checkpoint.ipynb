{
 "cells": [
  {
   "cell_type": "code",
   "execution_count": 1,
   "metadata": {},
   "outputs": [],
   "source": [
    "import pandas as pd\n",
    "import numpy as np"
   ]
  },
  {
   "cell_type": "code",
   "execution_count": 70,
   "metadata": {},
   "outputs": [],
   "source": [
    "cpi = pd.DataFrame()"
   ]
  },
  {
   "cell_type": "code",
   "execution_count": 71,
   "metadata": {},
   "outputs": [],
   "source": [
    "cpi['date'] = [int(year) for year in \"\"\"1980\n",
    "1981\n",
    "1982\n",
    "1983\n",
    "1984\n",
    "1985\n",
    "1986\n",
    "1987\n",
    "1988\n",
    "1989\n",
    "1990\n",
    "1991\n",
    "1992\n",
    "1993\n",
    "1994\n",
    "1995\n",
    "1996\n",
    "1997\n",
    "1998\n",
    "1999\n",
    "2000\n",
    "2001\n",
    "2002\n",
    "2003\n",
    "2004\n",
    "2005\"\"\".split()]"
   ]
  },
  {
   "cell_type": "code",
   "execution_count": 72,
   "metadata": {},
   "outputs": [],
   "source": [
    "cpi['us'] = [float(number) for number in \"\"\"82.4 \n",
    "90.9 \n",
    "96.5 \n",
    "99.6 \n",
    "103.9\n",
    "107.6\n",
    "109.6\n",
    "113.6\n",
    "118.3\n",
    "124.0\n",
    "130.7\n",
    "136.2\n",
    "140.3\n",
    "144.5\n",
    "148.2\n",
    "152.4\n",
    "156.9\n",
    "160.5\n",
    "163.0\n",
    "166.6\n",
    "172.2\n",
    "177.1\n",
    "179.9\n",
    "184.0\n",
    "188.9\n",
    "195.3\"\"\".split()]"
   ]
  },
  {
   "cell_type": "code",
   "execution_count": 73,
   "metadata": {},
   "outputs": [],
   "source": [
    "def string_to_float(list_of_columns, list_of_names):\n",
    "    for country, name in zip(list_of_columns,list_of_names):\n",
    "        cpi[name] = [float(number) for number in country.split()]"
   ]
  },
  {
   "cell_type": "code",
   "execution_count": 74,
   "metadata": {},
   "outputs": [],
   "source": [
    "string_to_float([canada, japan, france, germany, italy, uk], ['canada', 'japan', 'france', 'germany', 'italy', 'uk'])"
   ]
  },
  {
   "cell_type": "code",
   "execution_count": 51,
   "metadata": {},
   "outputs": [],
   "source": [
    "canada = \"\"\"76.1 \n",
    "85.6 \n",
    "94.9 \n",
    "100.4\n",
    "104.7\n",
    "109.0\n",
    "113.5\n",
    "118.4\n",
    "123.2\n",
    "129.3\n",
    "135.5\n",
    "143.1\n",
    "145.3\n",
    "147.9\n",
    "148.2\n",
    "151.4\n",
    "153.8\n",
    "156.3\n",
    "157.8\n",
    "160.5\n",
    "164.9\n",
    "169.1\n",
    "172.9\n",
    "177.7\n",
    "181.0\n",
    "184.9\"\"\""
   ]
  },
  {
   "cell_type": "code",
   "execution_count": 52,
   "metadata": {},
   "outputs": [],
   "source": [
    "japan = \"\"\" 91.0\n",
    " 95.3\n",
    " 98.1\n",
    " 99.8\n",
    "102.1\n",
    "104.2\n",
    "104.9\n",
    "104.9\n",
    "105.6\n",
    "108.0\n",
    "111.4\n",
    "115.0\n",
    "117.0\n",
    "118.5\n",
    "119.3\n",
    "119.2\n",
    "119.3\n",
    "121.5\n",
    "122.2\n",
    "121.8\n",
    "121.0\n",
    "120.1\n",
    "119.0\n",
    "118.7\n",
    "118.7\n",
    "118.3\"\"\""
   ]
  },
  {
   "cell_type": "code",
   "execution_count": 53,
   "metadata": {},
   "outputs": [],
   "source": [
    "france = \"\"\" 72.2\n",
    " 81.8\n",
    " 91.7\n",
    "100.3\n",
    "108.0\n",
    "114.3\n",
    "117.2\n",
    "121.1\n",
    "124.3\n",
    "128.7\n",
    "132.9\n",
    "137.2\n",
    "140.4\n",
    "143.4\n",
    "145.8\n",
    "148.4\n",
    "151.4\n",
    "153.2\n",
    "154.2\n",
    "155.0\n",
    "157.6\n",
    "160.2\n",
    "163.3\n",
    "166.7\n",
    "170.3\n",
    "173.2\"\"\""
   ]
  },
  {
   "cell_type": "code",
   "execution_count": 54,
   "metadata": {},
   "outputs": [],
   "source": [
    "germany = \"\"\" 86.7\n",
    " 92.2\n",
    " 97.0\n",
    "100.3\n",
    "102.7\n",
    "104.8\n",
    "104.6\n",
    "104.9\n",
    "106.3\n",
    "109.2\n",
    "112.2\n",
    "116.3\n",
    "122.2\n",
    "127.6\n",
    "131.1\n",
    "133.3\n",
    "135.3\n",
    "137.8\n",
    "139.1\n",
    "140.0\n",
    "142.0\n",
    "144.8\n",
    "146.7\n",
    "148.3\n",
    "150.8\n",
    "153.7\"\"\""
   ]
  },
  {
   "cell_type": "code",
   "execution_count": 55,
   "metadata": {},
   "outputs": [],
   "source": [
    "italy = \"\"\" 63.9\n",
    " 75.5\n",
    " 87.8\n",
    "100.8\n",
    "111.4\n",
    "121.7\n",
    "128.9\n",
    "135.1\n",
    "141.9\n",
    "150.7\n",
    "160.4\n",
    "170.5\n",
    "179.5\n",
    "187.7\n",
    "195.3\n",
    "205.6\n",
    "213.8\n",
    "218.2\n",
    "222.5\n",
    "226.2\n",
    "231.9\n",
    "238.3\n",
    "244.3\n",
    "250.8\n",
    "256.3\n",
    "261.3\"\"\""
   ]
  },
  {
   "cell_type": "code",
   "execution_count": 56,
   "metadata": {},
   "outputs": [],
   "source": [
    "uk = \"\"\" 78.5\n",
    " 87.9\n",
    " 95.4\n",
    " 99.8\n",
    "104.8\n",
    "111.1\n",
    "114.9\n",
    "119.7\n",
    "125.6\n",
    "135.4\n",
    "148.2\n",
    "156.9\n",
    "162.7\n",
    "165.3\n",
    "169.3\n",
    "175.2\n",
    "179.4\n",
    "185.1\n",
    "191.4\n",
    "194.3\n",
    "200.1\n",
    "203.6\n",
    "207.0\n",
    "213.0\n",
    "219.4\n",
    "225.6\"\"\""
   ]
  },
  {
   "cell_type": "code",
   "execution_count": 78,
   "metadata": {},
   "outputs": [
    {
     "data": {
      "text/html": [
       "<div>\n",
       "<style scoped>\n",
       "    .dataframe tbody tr th:only-of-type {\n",
       "        vertical-align: middle;\n",
       "    }\n",
       "\n",
       "    .dataframe tbody tr th {\n",
       "        vertical-align: top;\n",
       "    }\n",
       "\n",
       "    .dataframe thead th {\n",
       "        text-align: right;\n",
       "    }\n",
       "</style>\n",
       "<table border=\"1\" class=\"dataframe\">\n",
       "  <thead>\n",
       "    <tr style=\"text-align: right;\">\n",
       "      <th></th>\n",
       "      <th>date</th>\n",
       "      <th>us</th>\n",
       "      <th>canada</th>\n",
       "      <th>japan</th>\n",
       "      <th>france</th>\n",
       "      <th>germany</th>\n",
       "      <th>italy</th>\n",
       "      <th>uk</th>\n",
       "    </tr>\n",
       "  </thead>\n",
       "  <tbody>\n",
       "    <tr>\n",
       "      <th>0</th>\n",
       "      <td>1980</td>\n",
       "      <td>82.4</td>\n",
       "      <td>76.1</td>\n",
       "      <td>91.0</td>\n",
       "      <td>72.2</td>\n",
       "      <td>86.7</td>\n",
       "      <td>63.9</td>\n",
       "      <td>78.5</td>\n",
       "    </tr>\n",
       "    <tr>\n",
       "      <th>1</th>\n",
       "      <td>1981</td>\n",
       "      <td>90.9</td>\n",
       "      <td>85.6</td>\n",
       "      <td>95.3</td>\n",
       "      <td>81.8</td>\n",
       "      <td>92.2</td>\n",
       "      <td>75.5</td>\n",
       "      <td>87.9</td>\n",
       "    </tr>\n",
       "    <tr>\n",
       "      <th>2</th>\n",
       "      <td>1982</td>\n",
       "      <td>96.5</td>\n",
       "      <td>94.9</td>\n",
       "      <td>98.1</td>\n",
       "      <td>91.7</td>\n",
       "      <td>97.0</td>\n",
       "      <td>87.8</td>\n",
       "      <td>95.4</td>\n",
       "    </tr>\n",
       "    <tr>\n",
       "      <th>3</th>\n",
       "      <td>1983</td>\n",
       "      <td>99.6</td>\n",
       "      <td>100.4</td>\n",
       "      <td>99.8</td>\n",
       "      <td>100.3</td>\n",
       "      <td>100.3</td>\n",
       "      <td>100.8</td>\n",
       "      <td>99.8</td>\n",
       "    </tr>\n",
       "    <tr>\n",
       "      <th>4</th>\n",
       "      <td>1984</td>\n",
       "      <td>103.9</td>\n",
       "      <td>104.7</td>\n",
       "      <td>102.1</td>\n",
       "      <td>108.0</td>\n",
       "      <td>102.7</td>\n",
       "      <td>111.4</td>\n",
       "      <td>104.8</td>\n",
       "    </tr>\n",
       "  </tbody>\n",
       "</table>\n",
       "</div>"
      ],
      "text/plain": [
       "   date     us  canada  japan  france  germany  italy     uk\n",
       "0  1980   82.4    76.1   91.0    72.2     86.7   63.9   78.5\n",
       "1  1981   90.9    85.6   95.3    81.8     92.2   75.5   87.9\n",
       "2  1982   96.5    94.9   98.1    91.7     97.0   87.8   95.4\n",
       "3  1983   99.6   100.4   99.8   100.3    100.3  100.8   99.8\n",
       "4  1984  103.9   104.7  102.1   108.0    102.7  111.4  104.8"
      ]
     },
     "execution_count": 78,
     "metadata": {},
     "output_type": "execute_result"
    }
   ],
   "source": [
    "cpi.head()"
   ]
  },
  {
   "cell_type": "code",
   "execution_count": 81,
   "metadata": {},
   "outputs": [],
   "source": [
    "def calc_inflation(previous, current):\n",
    "    return round(((current - previous) / previous) * 100,2)"
   ]
  },
  {
   "cell_type": "code",
   "execution_count": 82,
   "metadata": {},
   "outputs": [
    {
     "data": {
      "text/plain": [
       "12.48"
      ]
     },
     "execution_count": 82,
     "metadata": {},
     "output_type": "execute_result"
    }
   ],
   "source": [
    "calc_inflation(76.1, 85.6)"
   ]
  },
  {
   "cell_type": "code",
   "execution_count": 91,
   "metadata": {},
   "outputs": [],
   "source": [
    "def get_inflation_values():\n",
    "    inflation_list = []\n",
    "    for i in range(1, len(cpi.canada)):\n",
    "        inflation_list.append(calc_inflation(cpi.canada[i-1], cpi.canada[i]))"
   ]
  },
  {
   "cell_type": "code",
   "execution_count": 92,
   "metadata": {},
   "outputs": [
    {
     "data": {
      "text/plain": [
       "[12.48,\n",
       " 10.86,\n",
       " 5.8,\n",
       " 4.28,\n",
       " 4.11,\n",
       " 4.13,\n",
       " 4.32,\n",
       " 4.05,\n",
       " 4.95,\n",
       " 4.8,\n",
       " 5.61,\n",
       " 1.54,\n",
       " 1.79,\n",
       " 0.2,\n",
       " 2.16,\n",
       " 1.59,\n",
       " 1.63,\n",
       " 0.96,\n",
       " 1.71,\n",
       " 2.74,\n",
       " 2.55,\n",
       " 2.25,\n",
       " 2.78,\n",
       " 1.86,\n",
       " 2.15]"
      ]
     },
     "execution_count": 92,
     "metadata": {},
     "output_type": "execute_result"
    }
   ],
   "source": [
    "inflation_list"
   ]
  },
  {
   "cell_type": "code",
   "execution_count": null,
   "metadata": {},
   "outputs": [],
   "source": []
  }
 ],
 "metadata": {
  "kernelspec": {
   "display_name": "Python 3",
   "language": "python",
   "name": "python3"
  },
  "language_info": {
   "codemirror_mode": {
    "name": "ipython",
    "version": 3
   },
   "file_extension": ".py",
   "mimetype": "text/x-python",
   "name": "python",
   "nbconvert_exporter": "python",
   "pygments_lexer": "ipython3",
   "version": "3.6.7"
  }
 },
 "nbformat": 4,
 "nbformat_minor": 2
}
