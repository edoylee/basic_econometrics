{
 "cells": [
  {
   "cell_type": "code",
   "execution_count": 16,
   "metadata": {},
   "outputs": [],
   "source": [
    "import pandas as pd\n",
    "import numpy as np\n",
    "import matplotlib.pyplot as plt\n",
    "from sklearn.linear_model import LinearRegression"
   ]
  },
  {
   "cell_type": "code",
   "execution_count": 2,
   "metadata": {},
   "outputs": [],
   "source": [
    "def raw_to_df(raw_data_split, column_names):\n",
    "    df = pd.DataFrame()\n",
    "    for i in range(len(column_names)):\n",
    "        df[column_names[i]] = [float(raw_data_split[j]) for j in range(i,len(raw_data_split), len(column_names))]\n",
    "    return df"
   ]
  },
  {
   "cell_type": "code",
   "execution_count": 8,
   "metadata": {},
   "outputs": [],
   "source": [
    "raw_data = \"\"\"217.0000 382.0000 \n",
    "196.0000 388.0000 \n",
    "303.0000 391.0000 \n",
    "270.0000 415.0000 \n",
    "325.0000 456.0000 \n",
    "260.0000 460.0000 \n",
    "300.0000 472.0000 \n",
    "325.0000 478.0000 \n",
    "336.0000 494.0000 \n",
    "345.0000 516.0000\n",
    "325.0000 525.0000\n",
    "362.0000 554.0000\n",
    "315.0000 575.0000\n",
    "355.0000 579.0000\n",
    "325.0000 585.0000\n",
    "370.0000 586.0000\n",
    "390.0000 590.0000\n",
    "420.0000 608.0000\n",
    "410.0000 610.0000\n",
    "383.0000 616.0000\n",
    "315.0000 618.0000\n",
    "267.0000 623.0000\n",
    "420.0000 627.0000\n",
    "300.0000 630.0000\n",
    "410.0000 635.0000\n",
    "220.0000 640.0000\n",
    "403.0000 648.0000\n",
    "350.0000 650.0000\n",
    "390.0000 655.0000\n",
    "385.0000 662.0000\n",
    "470.0000 663.0000\n",
    "322.0000 677.0000\n",
    "540.0000 680.0000\n",
    "433.0000 690.0000\n",
    "295.0000 695.0000\n",
    "340.0000 695.0000\n",
    "500.0000 695.0000\n",
    "450.0000 720.0000\n",
    "415.0000 721.0000\n",
    "540.0000 730.0000\n",
    "360.0000 731.0000\n",
    "450.0000 733.0000\n",
    "395.0000 745.0000\n",
    "430.0000 751.0000\n",
    "332.0000 752.0000\n",
    "397.0000 752.0000\n",
    "446.0000 769.0000\n",
    "480.0000 773.0000\n",
    "352.0000 773.0000\n",
    "410.0000 775.0000\n",
    "380.0000 785.0000\n",
    "610.0000 788.0000\n",
    "530.0000 790.0000\n",
    "360.0000 795.0000\n",
    "305.0000 801.0000\"\"\""
   ]
  },
  {
   "cell_type": "code",
   "execution_count": 9,
   "metadata": {},
   "outputs": [],
   "source": [
    "column_names = ['food_expenditure', 'total_expenditure']"
   ]
  },
  {
   "cell_type": "code",
   "execution_count": 11,
   "metadata": {},
   "outputs": [],
   "source": [
    "expenditure_df = raw_to_df(raw_data.split(), column_names)"
   ]
  },
  {
   "cell_type": "code",
   "execution_count": 13,
   "metadata": {},
   "outputs": [
    {
     "data": {
      "text/html": [
       "<div>\n",
       "<style scoped>\n",
       "    .dataframe tbody tr th:only-of-type {\n",
       "        vertical-align: middle;\n",
       "    }\n",
       "\n",
       "    .dataframe tbody tr th {\n",
       "        vertical-align: top;\n",
       "    }\n",
       "\n",
       "    .dataframe thead th {\n",
       "        text-align: right;\n",
       "    }\n",
       "</style>\n",
       "<table border=\"1\" class=\"dataframe\">\n",
       "  <thead>\n",
       "    <tr style=\"text-align: right;\">\n",
       "      <th></th>\n",
       "      <th>food_expenditure</th>\n",
       "      <th>total_expenditure</th>\n",
       "    </tr>\n",
       "  </thead>\n",
       "  <tbody>\n",
       "    <tr>\n",
       "      <th>0</th>\n",
       "      <td>217.0</td>\n",
       "      <td>382.0</td>\n",
       "    </tr>\n",
       "    <tr>\n",
       "      <th>1</th>\n",
       "      <td>196.0</td>\n",
       "      <td>388.0</td>\n",
       "    </tr>\n",
       "    <tr>\n",
       "      <th>2</th>\n",
       "      <td>303.0</td>\n",
       "      <td>391.0</td>\n",
       "    </tr>\n",
       "    <tr>\n",
       "      <th>3</th>\n",
       "      <td>270.0</td>\n",
       "      <td>415.0</td>\n",
       "    </tr>\n",
       "    <tr>\n",
       "      <th>4</th>\n",
       "      <td>325.0</td>\n",
       "      <td>456.0</td>\n",
       "    </tr>\n",
       "  </tbody>\n",
       "</table>\n",
       "</div>"
      ],
      "text/plain": [
       "   food_expenditure  total_expenditure\n",
       "0             217.0              382.0\n",
       "1             196.0              388.0\n",
       "2             303.0              391.0\n",
       "3             270.0              415.0\n",
       "4             325.0              456.0"
      ]
     },
     "execution_count": 13,
     "metadata": {},
     "output_type": "execute_result"
    }
   ],
   "source": [
    "expenditure_df.head()"
   ]
  },
  {
   "cell_type": "code",
   "execution_count": 18,
   "metadata": {},
   "outputs": [],
   "source": [
    "model = LinearRegression()"
   ]
  },
  {
   "cell_type": "code",
   "execution_count": 20,
   "metadata": {},
   "outputs": [],
   "source": [
    "fitted_model = model.fit(expenditure_df.total_expenditure.values.reshape(-1,1), expenditure_df.food_expenditure)"
   ]
  },
  {
   "cell_type": "code",
   "execution_count": 27,
   "metadata": {},
   "outputs": [
    {
     "data": {
      "text/plain": [
       "Text(0.5, 0, 'Total Expenditure')"
      ]
     },
     "execution_count": 27,
     "metadata": {},
     "output_type": "execute_result"
    },
    {
     "data": {
      "image/png": "[encoded data removed]",
      "text/plain": [
       "<Figure size 576x576 with 1 Axes>"
      ]
     },
     "metadata": {
      "needs_background": "light"
     },
     "output_type": "display_data"
    }
   ],
   "source": [
    "fig, ax = plt.subplots(figsize=(8,8))\n",
    "ax.scatter(expenditure_df.total_expenditure, expenditure_df.food_expenditure)\n",
    "ax.plot(expenditure_df.total_expenditure, \n",
    "        fitted_model.predict(expenditure_df.total_expenditure.values.reshape(-1,1)), \n",
    "        color = 'r')\n",
    "ax.set_title(\"Food Expenditure v. Total Expenditure\")\n",
    "ax.set_ylabel(\"Food Expenditure\")\n",
    "ax.set_xlabel(\"Total Expenditure\")"
   ]
  },
  {
   "cell_type": "code",
   "execution_count": null,
   "metadata": {},
   "outputs": [],
   "source": []
  }
 ],
 "metadata": {
  "kernelspec": {
   "display_name": "Python 3",
   "language": "python",
   "name": "python3"
  },
  "language_info": {
   "codemirror_mode": {
    "name": "ipython",
    "version": 3
   },
   "file_extension": ".py",
   "mimetype": "text/x-python",
   "name": "python",
   "nbconvert_exporter": "python",
   "pygments_lexer": "ipython3",
   "version": "3.6.7"
  }
 },
 "nbformat": 4,
 "nbformat_minor": 2
}
