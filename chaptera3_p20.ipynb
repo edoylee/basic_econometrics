{
 "cells": [
  {
   "cell_type": "code",
   "execution_count": 12,
   "metadata": {},
   "outputs": [],
   "source": [
    "import pandas as pd\n",
    "import numpy as np\n",
    "from econtools import raw_to_df"
   ]
  },
  {
   "cell_type": "code",
   "execution_count": 13,
   "metadata": {},
   "outputs": [],
   "source": [
    "raw_data = \"\"\"1959 50.5 54.2 13.1 13.7\n",
    "1960 51.4 54.8 13.7 14.3\n",
    "1961 53.2 56.6 14.2 14.8\n",
    "1962 55.7 59.2 14.8 15.4\n",
    "1963 57.9 61.2 15.4 15.9\n",
    "1964 60.6 63.8 16.2 16.7\n",
    "1965 62.7 65.8 16.8 17.2\n",
    "1966 65.2 68.0 17.9 18.2\n",
    "1967 66.6 69.2 18.9 19.3\n",
    "1968 68.9 71.6 20.5 20.8\n",
    "1969 69.2 71.7 21.9 22.2\n",
    "1970 70.6 72.7 23.6 23.8\n",
    "1971 73.6 75.7 25.1 25.4\n",
    "1972 76.0 78.3 26.7 27.0\n",
    "1973 78.4 80.7 29.0 29.2\n",
    "1974 77.1 79.4 31.8 32.1\n",
    "1975 79.8 81.6 35.1 35.3\n",
    "1976 82.5 84.5 38.2 38.4\n",
    "1977 84.0 85.8 41.2 41.5\n",
    "1978 84.9 87.0 44.9 45.2\n",
    "1979 84.5 86.3 49.2 49.5\n",
    "1980 84.2 86.0 54.5 54.8\n",
    "1981 85.8 87.0 59.6 60.2\n",
    "1982 85.3 88.3 64.1 64.6\n",
    "1983 88.0 89.9 66.8 67.3\n",
    "1984 90.2 91.4 69.7 70.2\n",
    "1985 91.7 92.3 73.1 73.4\n",
    "1986 94.1 94.7 76.8 77.2\n",
    "1987 94.0 94.5 79.8 80.1\n",
    "1988 94.7 95.3 83.6 83.7\n",
    "1989 95.5 95.8 85.9 86.0\n",
    "1990 96.1 96.3 90.8 90.7\n",
    "1991 96.7 97.0 95.1 95.1\n",
    "1992 100.0 100.0 100.0 100.0\n",
    "1993 100.1 100.1 102.5 102.2\n",
    "1994 100.7 100.6 104.4 104.2\n",
    "1995 101.0 101.2 106.8 106.7\n",
    "1996 103.7 103.7 110.7 110.4\n",
    "1997 105.4 105.1 114.9 114.5\"\"\""
   ]
  },
  {
   "cell_type": "code",
   "execution_count": 14,
   "metadata": {},
   "outputs": [],
   "source": [
    "column_names = ['year', 'output_business', 'output_nonfarm', 'compensation_business', 'compensation_nonfarm']"
   ]
  },
  {
   "cell_type": "code",
   "execution_count": 15,
   "metadata": {},
   "outputs": [],
   "source": [
    "prod_df = raw_to_df(raw_data.split(), column_names)"
   ]
  },
  {
   "cell_type": "code",
   "execution_count": 10,
   "metadata": {},
   "outputs": [],
   "source": [
    "prod_df.to_csv('/Users/ethandoyle/Econometrics/basic_econometrics/data/productivity.csv', index=False)"
   ]
  },
  {
   "cell_type": "code",
   "execution_count": null,
   "metadata": {},
   "outputs": [],
   "source": []
  }
 ],
 "metadata": {
  "kernelspec": {
   "display_name": "Python 3",
   "language": "python",
   "name": "python3"
  },
  "language_info": {
   "codemirror_mode": {
    "name": "ipython",
    "version": 3
   },
   "file_extension": ".py",
   "mimetype": "text/x-python",
   "name": "python",
   "nbconvert_exporter": "python",
   "pygments_lexer": "ipython3",
   "version": "3.6.7"
  }
 },
 "nbformat": 4,
 "nbformat_minor": 2
}
